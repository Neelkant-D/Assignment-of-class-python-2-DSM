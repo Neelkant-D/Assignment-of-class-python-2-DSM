{
 "cells": [
  {
   "cell_type": "markdown",
   "metadata": {},
   "source": [
    "#1. Write a program which accepts a sequence of comma-separated numbers from console and\n",
    "generate a list."
   ]
  },
  {
   "cell_type": "code",
   "execution_count": 5,
   "metadata": {},
   "outputs": [
    {
     "name": "stdout",
     "output_type": "stream",
     "text": [
      "Enter the numbers :200,400,600,800,1000\n",
      "The List is : ['200', '400', '600', '800', '1000']\n"
     ]
    }
   ],
   "source": [
    "X = (input(\"Enter the numbers :\"))  #This will be an input from console\n",
    "\n",
    "L= X.split(\",\")                     # accepted numbers separeated/split by comma(\",\")\n",
    "\n",
    "print(\"The List is :\",L)            # Gives the output of desired numbers"
   ]
  },
  {
   "cell_type": "markdown",
   "metadata": {},
   "source": [
    "#2. Create the below pattern using nested for loop in Python.\n",
    "*\n",
    "* *\n",
    "* * *\n",
    "* * * *\n",
    "* * * * *\n",
    "* * * *\n",
    "* * *\n",
    "* *"
   ]
  },
  {
   "cell_type": "code",
   "execution_count": 22,
   "metadata": {},
   "outputs": [
    {
     "name": "stdout",
     "output_type": "stream",
     "text": [
      "\n",
      "*\n",
      "**\n",
      "***\n",
      "****\n",
      "*****\n",
      "****\n",
      "***\n",
      "**\n",
      "*\n"
     ]
    }
   ],
   "source": [
    "n =5                             # n is a variable\n",
    "for row  in range (n):           #  every row iterated with the help of for loop for the range n, i.e n-1 \n",
    " \n",
    "    for col in range (row):      # similarly for columns, in range row, i.e row -1       \n",
    "        print('*', end =\"\")     # print * along with new line\n",
    "    print('')                   # * in new line\n",
    "\n",
    "\n",
    "                               # above program will give the 90* deg triangle\n",
    "    \n",
    "    \n",
    "for row in range (n,0,-1):    # similarly repeating the same above program with range fron n , 0 in 1 step reduction \n",
    "    for col in range (row):\n",
    "        print('*', end =\"\")\n",
    "    print('')\n"
   ]
  },
  {
   "cell_type": "markdown",
   "metadata": {},
   "source": [
    "#3. Write a Python program to reverse a word after accepting the input from the user."
   ]
  },
  {
   "cell_type": "code",
   "execution_count": 25,
   "metadata": {},
   "outputs": [
    {
     "name": "stdout",
     "output_type": "stream",
     "text": [
      "Enter a word to reverse :AcadGild\n",
      "dliGdacA\n"
     ]
    }
   ],
   "source": [
    "Input_word =input (\"Enter a word to reverse :\") #Accepts the word from user\n",
    "\n",
    "print(Input_word[::-1])                         #::-1, reverses the characters"
   ]
  }
 ],
 "metadata": {
  "kernelspec": {
   "display_name": "Python 3",
   "language": "python",
   "name": "python3"
  },
  "language_info": {
   "codemirror_mode": {
    "name": "ipython",
    "version": 3
   },
   "file_extension": ".py",
   "mimetype": "text/x-python",
   "name": "python",
   "nbconvert_exporter": "python",
   "pygments_lexer": "ipython3",
   "version": "3.6.5"
  }
 },
 "nbformat": 4,
 "nbformat_minor": 2
}
